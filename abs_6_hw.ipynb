{
 "cells": [
  {
   "cell_type": "markdown",
   "metadata": {},
   "source": [
    "# Домашнее задание"
   ]
  },
  {
   "cell_type": "code",
   "execution_count": 106,
   "metadata": {},
   "outputs": [],
   "source": [
    "import pandas as pd\n",
    "import numpy as np\n",
    "import matplotlib\n",
    "import matplotlib.pyplot as plt\n",
    "import seaborn as sns\n",
    "from scipy.stats import pearsonr\n",
    "import math"
   ]
  },
  {
   "cell_type": "code",
   "execution_count": 70,
   "metadata": {},
   "outputs": [
    {
     "data": {
      "text/html": [
       "<div>\n",
       "<style scoped>\n",
       "    .dataframe tbody tr th:only-of-type {\n",
       "        vertical-align: middle;\n",
       "    }\n",
       "\n",
       "    .dataframe tbody tr th {\n",
       "        vertical-align: top;\n",
       "    }\n",
       "\n",
       "    .dataframe thead th {\n",
       "        text-align: right;\n",
       "    }\n",
       "</style>\n",
       "<table border=\"1\" class=\"dataframe\">\n",
       "  <thead>\n",
       "    <tr style=\"text-align: right;\">\n",
       "      <th></th>\n",
       "      <th>Rooms</th>\n",
       "      <th>DistMetro</th>\n",
       "      <th>Area</th>\n",
       "      <th>Price</th>\n",
       "    </tr>\n",
       "    <tr>\n",
       "      <th>No</th>\n",
       "      <th></th>\n",
       "      <th></th>\n",
       "      <th></th>\n",
       "      <th></th>\n",
       "    </tr>\n",
       "  </thead>\n",
       "  <tbody>\n",
       "    <tr>\n",
       "      <td>1</td>\n",
       "      <td>3</td>\n",
       "      <td>12</td>\n",
       "      <td>56</td>\n",
       "      <td>9396</td>\n",
       "    </tr>\n",
       "    <tr>\n",
       "      <td>2</td>\n",
       "      <td>2</td>\n",
       "      <td>4</td>\n",
       "      <td>54</td>\n",
       "      <td>9785</td>\n",
       "    </tr>\n",
       "    <tr>\n",
       "      <td>3</td>\n",
       "      <td>1</td>\n",
       "      <td>2</td>\n",
       "      <td>31</td>\n",
       "      <td>5783</td>\n",
       "    </tr>\n",
       "    <tr>\n",
       "      <td>4</td>\n",
       "      <td>2</td>\n",
       "      <td>8</td>\n",
       "      <td>48</td>\n",
       "      <td>9123</td>\n",
       "    </tr>\n",
       "    <tr>\n",
       "      <td>5</td>\n",
       "      <td>1</td>\n",
       "      <td>11</td>\n",
       "      <td>31</td>\n",
       "      <td>5662</td>\n",
       "    </tr>\n",
       "  </tbody>\n",
       "</table>\n",
       "</div>"
      ],
      "text/plain": [
       "    Rooms  DistMetro  Area  Price\n",
       "No                               \n",
       "1       3         12    56   9396\n",
       "2       2          4    54   9785\n",
       "3       1          2    31   5783\n",
       "4       2          8    48   9123\n",
       "5       1         11    31   5662"
      ]
     },
     "execution_count": 70,
     "metadata": {},
     "output_type": "execute_result"
    }
   ],
   "source": [
    "data_house_prices = pd.read_excel('house_prices.xlsx', index_col=0)\n",
    "#data_house_prices.head()"
   ]
  },
  {
   "cell_type": "markdown",
   "metadata": {},
   "source": [
    "**1. Построить гистограмму**\n",
    "Постройте гистограммы распределения цен для каждой категории (по количеству комнат).\n",
    "Какие выводы можно сделать на основе полученных гистограмм?"
   ]
  },
  {
   "cell_type": "code",
   "execution_count": 65,
   "metadata": {},
   "outputs": [],
   "source": [
    "#1 ком. кв\n",
    "data_house1_prices = data_house_prices [data_house_prices.Rooms == 1]\n",
    "count_house1 = len(data_house1_prices) #выборка/кол-во 1 ком. кв.  \n",
    "#2 ком. кв\n",
    "data_house2_prices = data_house_prices [data_house_prices.Rooms == 2]\n",
    "count_house2 = len(data_house2_prices) #выборка/кол-во 2 ком. кв.  \n",
    "#3 ком. кв\n",
    "data_house3_prices = data_house_prices [data_house_prices.Rooms == 3]\n",
    "count_house3 = len(data_house3_prices) #выборка/кол-во 3 ком. кв.  "
   ]
  },
  {
   "cell_type": "code",
   "execution_count": 46,
   "metadata": {},
   "outputs": [],
   "source": [
    "#распределение кол-ва 1 ком. кв по цене \n",
    "distr_house1_prices = data_house1_prices['Price'].value_counts().reset_index()\n",
    "distr_house1_prices.rename(columns={'index': 'Price', 'Price': 'Frequency'}, inplace=True)\n",
    "#распределение кол-ва 2 ком. кв по цене \n",
    "distr_house2_prices = data_house2_prices['Price'].value_counts().reset_index()\n",
    "distr_house2_prices.rename(columns={'index': 'Price', 'Price': 'Frequency'}, inplace=True)\n",
    "#распределение кол-ва 2 ком. кв по цене \n",
    "distr_house3_prices = data_house3_prices['Price'].value_counts().reset_index()\n",
    "distr_house3_prices.rename(columns={'index': 'Price', 'Price': 'Frequency'}, inplace=True)"
   ]
  },
  {
   "cell_type": "code",
   "execution_count": 85,
   "metadata": {},
   "outputs": [
    {
     "name": "stdout",
     "output_type": "stream",
     "text": [
      "кол-во 1 ком. кв. = 1657\n",
      "кол-во 2 ком. кв. = 1690\n",
      "кол-во 3 ком. кв. = 1653\n",
      "всего кв. = 5000\n"
     ]
    }
   ],
   "source": [
    "print(f'кол-во 1 ком. кв. = {count_house1}')\n",
    "print(f'кол-во 2 ком. кв. = {count_house2}')  \n",
    "print(f'кол-во 3 ком. кв. = {count_house3}')  \n",
    "print(f'всего кв. = {count_house1 + count_house2 + count_house3}')  "
   ]
  },
  {
   "cell_type": "code",
   "execution_count": 64,
   "metadata": {},
   "outputs": [
    {
     "data": {
      "text/html": [
       "<div>\n",
       "<style scoped>\n",
       "    .dataframe tbody tr th:only-of-type {\n",
       "        vertical-align: middle;\n",
       "    }\n",
       "\n",
       "    .dataframe tbody tr th {\n",
       "        vertical-align: top;\n",
       "    }\n",
       "\n",
       "    .dataframe thead th {\n",
       "        text-align: right;\n",
       "    }\n",
       "</style>\n",
       "<table border=\"1\" class=\"dataframe\">\n",
       "  <thead>\n",
       "    <tr style=\"text-align: right;\">\n",
       "      <th></th>\n",
       "      <th>Price</th>\n",
       "      <th>Frequency</th>\n",
       "    </tr>\n",
       "  </thead>\n",
       "  <tbody>\n",
       "    <tr>\n",
       "      <td>count</td>\n",
       "      <td>1297.000000</td>\n",
       "      <td>1297.000000</td>\n",
       "    </tr>\n",
       "    <tr>\n",
       "      <td>mean</td>\n",
       "      <td>5368.787201</td>\n",
       "      <td>1.277564</td>\n",
       "    </tr>\n",
       "    <tr>\n",
       "      <td>std</td>\n",
       "      <td>942.824663</td>\n",
       "      <td>0.577402</td>\n",
       "    </tr>\n",
       "    <tr>\n",
       "      <td>min</td>\n",
       "      <td>2825.000000</td>\n",
       "      <td>1.000000</td>\n",
       "    </tr>\n",
       "    <tr>\n",
       "      <td>25%</td>\n",
       "      <td>4690.000000</td>\n",
       "      <td>1.000000</td>\n",
       "    </tr>\n",
       "    <tr>\n",
       "      <td>50%</td>\n",
       "      <td>5328.000000</td>\n",
       "      <td>1.000000</td>\n",
       "    </tr>\n",
       "    <tr>\n",
       "      <td>75%</td>\n",
       "      <td>6031.000000</td>\n",
       "      <td>1.000000</td>\n",
       "    </tr>\n",
       "    <tr>\n",
       "      <td>max</td>\n",
       "      <td>8341.000000</td>\n",
       "      <td>5.000000</td>\n",
       "    </tr>\n",
       "  </tbody>\n",
       "</table>\n",
       "</div>"
      ],
      "text/plain": [
       "             Price    Frequency\n",
       "count  1297.000000  1297.000000\n",
       "mean   5368.787201     1.277564\n",
       "std     942.824663     0.577402\n",
       "min    2825.000000     1.000000\n",
       "25%    4690.000000     1.000000\n",
       "50%    5328.000000     1.000000\n",
       "75%    6031.000000     1.000000\n",
       "max    8341.000000     5.000000"
      ]
     },
     "execution_count": 64,
     "metadata": {},
     "output_type": "execute_result"
    }
   ],
   "source": [
    "#основные статистики для датафрейма 1 ком. кв\n",
    "distr_house1_prices.describe()"
   ]
  },
  {
   "cell_type": "code",
   "execution_count": 55,
   "metadata": {},
   "outputs": [
    {
     "data": {
      "text/html": [
       "<div>\n",
       "<style scoped>\n",
       "    .dataframe tbody tr th:only-of-type {\n",
       "        vertical-align: middle;\n",
       "    }\n",
       "\n",
       "    .dataframe tbody tr th {\n",
       "        vertical-align: top;\n",
       "    }\n",
       "\n",
       "    .dataframe thead th {\n",
       "        text-align: right;\n",
       "    }\n",
       "</style>\n",
       "<table border=\"1\" class=\"dataframe\">\n",
       "  <thead>\n",
       "    <tr style=\"text-align: right;\">\n",
       "      <th></th>\n",
       "      <th>Price</th>\n",
       "      <th>Frequency</th>\n",
       "    </tr>\n",
       "  </thead>\n",
       "  <tbody>\n",
       "    <tr>\n",
       "      <td>count</td>\n",
       "      <td>1437.000000</td>\n",
       "      <td>1437.000000</td>\n",
       "    </tr>\n",
       "    <tr>\n",
       "      <td>mean</td>\n",
       "      <td>8546.304802</td>\n",
       "      <td>1.176061</td>\n",
       "    </tr>\n",
       "    <tr>\n",
       "      <td>std</td>\n",
       "      <td>1415.009460</td>\n",
       "      <td>0.440354</td>\n",
       "    </tr>\n",
       "    <tr>\n",
       "      <td>min</td>\n",
       "      <td>4427.000000</td>\n",
       "      <td>1.000000</td>\n",
       "    </tr>\n",
       "    <tr>\n",
       "      <td>25%</td>\n",
       "      <td>7458.000000</td>\n",
       "      <td>1.000000</td>\n",
       "    </tr>\n",
       "    <tr>\n",
       "      <td>50%</td>\n",
       "      <td>8536.000000</td>\n",
       "      <td>1.000000</td>\n",
       "    </tr>\n",
       "    <tr>\n",
       "      <td>75%</td>\n",
       "      <td>9563.000000</td>\n",
       "      <td>1.000000</td>\n",
       "    </tr>\n",
       "    <tr>\n",
       "      <td>max</td>\n",
       "      <td>12833.000000</td>\n",
       "      <td>4.000000</td>\n",
       "    </tr>\n",
       "  </tbody>\n",
       "</table>\n",
       "</div>"
      ],
      "text/plain": [
       "              Price    Frequency\n",
       "count   1437.000000  1437.000000\n",
       "mean    8546.304802     1.176061\n",
       "std     1415.009460     0.440354\n",
       "min     4427.000000     1.000000\n",
       "25%     7458.000000     1.000000\n",
       "50%     8536.000000     1.000000\n",
       "75%     9563.000000     1.000000\n",
       "max    12833.000000     4.000000"
      ]
     },
     "execution_count": 55,
     "metadata": {},
     "output_type": "execute_result"
    }
   ],
   "source": [
    "#основные статистики для датафрейма 2 ком. кв\n",
    "distr_house2_prices.describe()"
   ]
  },
  {
   "cell_type": "code",
   "execution_count": 56,
   "metadata": {},
   "outputs": [
    {
     "data": {
      "text/html": [
       "<div>\n",
       "<style scoped>\n",
       "    .dataframe tbody tr th:only-of-type {\n",
       "        vertical-align: middle;\n",
       "    }\n",
       "\n",
       "    .dataframe tbody tr th {\n",
       "        vertical-align: top;\n",
       "    }\n",
       "\n",
       "    .dataframe thead th {\n",
       "        text-align: right;\n",
       "    }\n",
       "</style>\n",
       "<table border=\"1\" class=\"dataframe\">\n",
       "  <thead>\n",
       "    <tr style=\"text-align: right;\">\n",
       "      <th></th>\n",
       "      <th>Price</th>\n",
       "      <th>Frequency</th>\n",
       "    </tr>\n",
       "  </thead>\n",
       "  <tbody>\n",
       "    <tr>\n",
       "      <td>count</td>\n",
       "      <td>1460.000000</td>\n",
       "      <td>1460.000000</td>\n",
       "    </tr>\n",
       "    <tr>\n",
       "      <td>mean</td>\n",
       "      <td>11764.063014</td>\n",
       "      <td>1.132192</td>\n",
       "    </tr>\n",
       "    <tr>\n",
       "      <td>std</td>\n",
       "      <td>2019.207131</td>\n",
       "      <td>0.367910</td>\n",
       "    </tr>\n",
       "    <tr>\n",
       "      <td>min</td>\n",
       "      <td>6338.000000</td>\n",
       "      <td>1.000000</td>\n",
       "    </tr>\n",
       "    <tr>\n",
       "      <td>25%</td>\n",
       "      <td>10250.500000</td>\n",
       "      <td>1.000000</td>\n",
       "    </tr>\n",
       "    <tr>\n",
       "      <td>50%</td>\n",
       "      <td>11671.500000</td>\n",
       "      <td>1.000000</td>\n",
       "    </tr>\n",
       "    <tr>\n",
       "      <td>75%</td>\n",
       "      <td>13189.000000</td>\n",
       "      <td>1.000000</td>\n",
       "    </tr>\n",
       "    <tr>\n",
       "      <td>max</td>\n",
       "      <td>17614.000000</td>\n",
       "      <td>3.000000</td>\n",
       "    </tr>\n",
       "  </tbody>\n",
       "</table>\n",
       "</div>"
      ],
      "text/plain": [
       "              Price    Frequency\n",
       "count   1460.000000  1460.000000\n",
       "mean   11764.063014     1.132192\n",
       "std     2019.207131     0.367910\n",
       "min     6338.000000     1.000000\n",
       "25%    10250.500000     1.000000\n",
       "50%    11671.500000     1.000000\n",
       "75%    13189.000000     1.000000\n",
       "max    17614.000000     3.000000"
      ]
     },
     "execution_count": 56,
     "metadata": {},
     "output_type": "execute_result"
    }
   ],
   "source": [
    "#основные статистики для датафрейма 3 ком. кв\n",
    "distr_house3_prices.describe()"
   ]
  },
  {
   "cell_type": "code",
   "execution_count": 51,
   "metadata": {},
   "outputs": [
    {
     "data": {
      "image/png": "[encoded data removed]",
      "text/plain": [
       "<Figure size 432x288 with 1 Axes>"
      ]
     },
     "metadata": {
      "needs_background": "light"
     },
     "output_type": "display_data"
    }
   ],
   "source": [
    "#гистограммы распределения цен на 1 ком. кв.\n",
    "sns_plot1 = sns.distplot(distr_house1_prices['Price'])\n",
    "fig = sns_plot1.get_figure()"
   ]
  },
  {
   "cell_type": "code",
   "execution_count": 52,
   "metadata": {},
   "outputs": [
    {
     "data": {
      "image/png": "[encoded data removed]",
      "text/plain": [
       "<Figure size 432x288 with 1 Axes>"
      ]
     },
     "metadata": {
      "needs_background": "light"
     },
     "output_type": "display_data"
    }
   ],
   "source": [
    "#гистограммы распределения цен на 2 ком. кв.\n",
    "sns_plot2 = sns.distplot(distr_house2_prices['Price'])\n",
    "fig = sns_plot2.get_figure()"
   ]
  },
  {
   "cell_type": "code",
   "execution_count": 53,
   "metadata": {},
   "outputs": [
    {
     "data": {
      "image/png": "[encoded data removed]",
      "text/plain": [
       "<Figure size 432x288 with 1 Axes>"
      ]
     },
     "metadata": {
      "needs_background": "light"
     },
     "output_type": "display_data"
    }
   ],
   "source": [
    "#гистограммы распределения цен на 3 ком. кв.\n",
    "sns_plot3 = sns.distplot(distr_house3_prices['Price'])\n",
    "fig = sns_plot3.get_figure()"
   ]
  },
  {
   "attachments": {},
   "cell_type": "markdown",
   "metadata": {},
   "source": [
    "**Анализ**\n",
    "\n",
    "Гистограмма для однокомнатных квартир:\n",
    "* Выборка = кол-во 1 ком. кв. = 1657\n",
    "* Размах вариации (max - min) = 5516\n",
    "* Среднее значение (mean) = 5368.79\n",
    "* Стандартное отклонение (std) = 942.83\n",
    "\n",
    "Гистограмма для двухкомнатных квартир:\t\t\t\n",
    "* Выборка = кол-во 2 ком. кв. = 1690\n",
    "* Размах вариации (max - min) = 8406\n",
    "* Среднее значение (mean) = 8546.30\n",
    "* Стандартное отклонение (std) = 1415.00\t\n",
    "\n",
    "Гистограмма для трехкомнатных квартир:\t\t\t\n",
    "* Выборка = кол-во 3 ком. кв. = 1653\n",
    "* Размах вариации (max - min) = 11276\t\n",
    "* Среднее значение (mean) = 11764.06\n",
    "* Стандартное отклонение (std) = 2019.21\t\t\n",
    "\n",
    "Гистограммы распределения цен на 1, 2, 3 ком. квартиры визуально похожи на нормальное распределение.\n",
    "Гистограмма распределения цен на 1 ком. квартиры визуально симметрична,\n",
    "а гисторгамм распределения цен на 2,3 ком. квартиры визуально обладают левой ассиметрией.\n",
    "\n",
    "Если сравнить относительною частоту, то больше всех у 1 ком. кв, затем 2 ком. кв. и 3 ком., то есть выбор 1 ком. кв. из средней ценовой категории больше остальных.\n",
    "\n",
    "Стандартное отклонение растет в зависимости от кол-ва комнат, то есть чем больше комнат, тем больше цена."
   ]
  },
  {
   "cell_type": "markdown",
   "metadata": {},
   "source": [
    "**2. Оценить корреляцию**\n",
    "Используя знакомые вам методы, дайте оценку корреляции цены и площади квартиры отдельно по каждой категории\n",
    "(по количеству комнат). Какие выводы можно сделать из этой оценки?"
   ]
  },
  {
   "cell_type": "code",
   "execution_count": 73,
   "metadata": {},
   "outputs": [
    {
     "name": "stdout",
     "output_type": "stream",
     "text": [
      "Корреляция цены и площади 1 ком. квартир = 0.6528312289899489\n",
      "Корреляция цены и площади 2 ком. квартир = 0.7058155230162516\n",
      "Корреляция цены и площади 3 ком. квартир = 0.7447234199703179\n"
     ]
    }
   ],
   "source": [
    "#расчет корреляции между Ценой и Площадью кв.\n",
    "corr_P_house1 = pearsonr(data_house1_prices['Price'], data_house1_prices['Area'])[0]\n",
    "corr_P_house2 = pearsonr(data_house2_prices['Price'], data_house2_prices['Area'])[0]\n",
    "corr_P_house3 = pearsonr(data_house3_prices['Price'], data_house3_prices['Area'])[0]\n",
    "print(f'Корреляция цены и площади 1 ком. квартир = {corr_P_house1} (средняя)')\n",
    "print(f'Корреляция цены и площади 2 ком. квартир = {corr_P_house2} (сильная)')\n",
    "print(f'Корреляция цены и площади 3 ком. квартир = {corr_P_house3} (сильная)')"
   ]
  },
  {
   "attachments": {},
   "cell_type": "markdown",
   "metadata": {},
   "source": [
    "**Анализ**\n",
    "Так как корреляция 1 ком. кв. от 0, 5 до 0,7, то считается средней.\n",
    "Корреляция 2, 3 ком. кв. от 0,7 до 0, 9, то - высокая/сильная.\n",
    "\n",
    "Значит цены на 2, 3 кв-ры имею сильную взаимосвязь с площадью (чем больше площадь, тем выше цена). А 1 ком. кв. менее зависят от площади квартиры."
   ]
  },
  {
   "cell_type": "markdown",
   "metadata": {},
   "source": [
    "**3. Рассчитать квартили**\n",
    "Рассчитайте границы квартилей распределения цен на 2х квартиры площадью более 40 кв. метров."
   ]
  },
  {
   "cell_type": "code",
   "execution_count": 79,
   "metadata": {},
   "outputs": [
    {
     "name": "stdout",
     "output_type": "stream",
     "text": [
      "Выборка 2 ком. квартир площадью более 40 кв. метров = 1446\n"
     ]
    },
    {
     "data": {
      "text/html": [
       "<div>\n",
       "<style scoped>\n",
       "    .dataframe tbody tr th:only-of-type {\n",
       "        vertical-align: middle;\n",
       "    }\n",
       "\n",
       "    .dataframe tbody tr th {\n",
       "        vertical-align: top;\n",
       "    }\n",
       "\n",
       "    .dataframe thead th {\n",
       "        text-align: right;\n",
       "    }\n",
       "</style>\n",
       "<table border=\"1\" class=\"dataframe\">\n",
       "  <thead>\n",
       "    <tr style=\"text-align: right;\">\n",
       "      <th></th>\n",
       "      <th>Rooms</th>\n",
       "      <th>DistMetro</th>\n",
       "      <th>Area</th>\n",
       "      <th>Price</th>\n",
       "    </tr>\n",
       "  </thead>\n",
       "  <tbody>\n",
       "    <tr>\n",
       "      <td>count</td>\n",
       "      <td>1446.0</td>\n",
       "      <td>1446.000000</td>\n",
       "      <td>1446.000000</td>\n",
       "      <td>1446.000000</td>\n",
       "    </tr>\n",
       "    <tr>\n",
       "      <td>mean</td>\n",
       "      <td>2.0</td>\n",
       "      <td>9.495851</td>\n",
       "      <td>49.090595</td>\n",
       "      <td>8809.825035</td>\n",
       "    </tr>\n",
       "    <tr>\n",
       "      <td>std</td>\n",
       "      <td>0.0</td>\n",
       "      <td>5.699237</td>\n",
       "      <td>5.067239</td>\n",
       "      <td>1268.013211</td>\n",
       "    </tr>\n",
       "    <tr>\n",
       "      <td>min</td>\n",
       "      <td>2.0</td>\n",
       "      <td>0.000000</td>\n",
       "      <td>41.000000</td>\n",
       "      <td>4427.000000</td>\n",
       "    </tr>\n",
       "    <tr>\n",
       "      <td>25%</td>\n",
       "      <td>2.0</td>\n",
       "      <td>5.000000</td>\n",
       "      <td>45.000000</td>\n",
       "      <td>7924.000000</td>\n",
       "    </tr>\n",
       "    <tr>\n",
       "      <td>50%</td>\n",
       "      <td>2.0</td>\n",
       "      <td>9.000000</td>\n",
       "      <td>49.000000</td>\n",
       "      <td>8812.000000</td>\n",
       "    </tr>\n",
       "    <tr>\n",
       "      <td>75%</td>\n",
       "      <td>2.0</td>\n",
       "      <td>14.000000</td>\n",
       "      <td>53.000000</td>\n",
       "      <td>9684.500000</td>\n",
       "    </tr>\n",
       "    <tr>\n",
       "      <td>max</td>\n",
       "      <td>2.0</td>\n",
       "      <td>19.000000</td>\n",
       "      <td>59.000000</td>\n",
       "      <td>12833.000000</td>\n",
       "    </tr>\n",
       "  </tbody>\n",
       "</table>\n",
       "</div>"
      ],
      "text/plain": [
       "        Rooms    DistMetro         Area         Price\n",
       "count  1446.0  1446.000000  1446.000000   1446.000000\n",
       "mean      2.0     9.495851    49.090595   8809.825035\n",
       "std       0.0     5.699237     5.067239   1268.013211\n",
       "min       2.0     0.000000    41.000000   4427.000000\n",
       "25%       2.0     5.000000    45.000000   7924.000000\n",
       "50%       2.0     9.000000    49.000000   8812.000000\n",
       "75%       2.0    14.000000    53.000000   9684.500000\n",
       "max       2.0    19.000000    59.000000  12833.000000"
      ]
     },
     "execution_count": 79,
     "metadata": {},
     "output_type": "execute_result"
    }
   ],
   "source": [
    "data_house2_40m = data_house2_prices[ data_house2_prices.Area > 40]\n",
    "count_house2_40m = len(data_house2_40m)\n",
    "print(f'Выборка 2 ком. квартир площадью более 40 кв. метров = {count_house2_40m}')\n",
    "data_house2_40m.describe()"
   ]
  },
  {
   "attachments": {},
   "cell_type": "markdown",
   "metadata": {},
   "source": [
    "**Анализ**\n",
    "\n",
    "* Выборка 2 ком. квартир площадью более 40 кв. метров. = 1446\n",
    "* Среднее значение (mean) = 8809.82\n",
    "* Минимум (min) = 4427\n",
    "* Первый квартиль /ниж. (25%) = 7924\n",
    "* Второй квартиль (50%) = 8812\n",
    "* Третий квартиль (75%) = 9684.5\n",
    "* Максимум /верх. = 12833"
   ]
  },
  {
   "cell_type": "markdown",
   "metadata": {},
   "source": [
    "**4. Решить задачу**\n",
    "Вы являетесь риелтором, ваша прибыль это комиссия 3% от суммы сделки купли-продажи квартир (цена квартиры). В текущем квартале у вас ожидается 25 сделок купли-продажи 3-х комнатных квартир. Оцените вероятность того, что ваша суммарная прибыль от этих продаж превысит 9 млн. 200 тыс.\n",
    "В каждой категории разная степень корреляции. Т.е. у 3 комнатных она может быть иная, чем у однокомнатных."
   ]
  },
  {
   "cell_type": "code",
   "execution_count": 80,
   "metadata": {},
   "outputs": [
    {
     "data": {
      "text/html": [
       "<div>\n",
       "<style scoped>\n",
       "    .dataframe tbody tr th:only-of-type {\n",
       "        vertical-align: middle;\n",
       "    }\n",
       "\n",
       "    .dataframe tbody tr th {\n",
       "        vertical-align: top;\n",
       "    }\n",
       "\n",
       "    .dataframe thead th {\n",
       "        text-align: right;\n",
       "    }\n",
       "</style>\n",
       "<table border=\"1\" class=\"dataframe\">\n",
       "  <thead>\n",
       "    <tr style=\"text-align: right;\">\n",
       "      <th></th>\n",
       "      <th>Rooms</th>\n",
       "      <th>DistMetro</th>\n",
       "      <th>Area</th>\n",
       "      <th>Price</th>\n",
       "    </tr>\n",
       "    <tr>\n",
       "      <th>No</th>\n",
       "      <th></th>\n",
       "      <th></th>\n",
       "      <th></th>\n",
       "      <th></th>\n",
       "    </tr>\n",
       "  </thead>\n",
       "  <tbody>\n",
       "    <tr>\n",
       "      <td>1</td>\n",
       "      <td>3</td>\n",
       "      <td>12</td>\n",
       "      <td>56</td>\n",
       "      <td>9396</td>\n",
       "    </tr>\n",
       "    <tr>\n",
       "      <td>6</td>\n",
       "      <td>3</td>\n",
       "      <td>19</td>\n",
       "      <td>65</td>\n",
       "      <td>11318</td>\n",
       "    </tr>\n",
       "    <tr>\n",
       "      <td>7</td>\n",
       "      <td>3</td>\n",
       "      <td>13</td>\n",
       "      <td>69</td>\n",
       "      <td>11301</td>\n",
       "    </tr>\n",
       "    <tr>\n",
       "      <td>9</td>\n",
       "      <td>3</td>\n",
       "      <td>3</td>\n",
       "      <td>68</td>\n",
       "      <td>13279</td>\n",
       "    </tr>\n",
       "    <tr>\n",
       "      <td>11</td>\n",
       "      <td>3</td>\n",
       "      <td>18</td>\n",
       "      <td>63</td>\n",
       "      <td>11653</td>\n",
       "    </tr>\n",
       "  </tbody>\n",
       "</table>\n",
       "</div>"
      ],
      "text/plain": [
       "    Rooms  DistMetro  Area  Price\n",
       "No                               \n",
       "1       3         12    56   9396\n",
       "6       3         19    65  11318\n",
       "7       3         13    69  11301\n",
       "9       3          3    68  13279\n",
       "11      3         18    63  11653"
      ]
     },
     "execution_count": 80,
     "metadata": {},
     "output_type": "execute_result"
    }
   ],
   "source": [
    "data_house3_prices.head()"
   ]
  },
  {
   "cell_type": "code",
   "execution_count": 81,
   "metadata": {},
   "outputs": [
    {
     "data": {
      "text/html": [
       "<div>\n",
       "<style scoped>\n",
       "    .dataframe tbody tr th:only-of-type {\n",
       "        vertical-align: middle;\n",
       "    }\n",
       "\n",
       "    .dataframe tbody tr th {\n",
       "        vertical-align: top;\n",
       "    }\n",
       "\n",
       "    .dataframe thead th {\n",
       "        text-align: right;\n",
       "    }\n",
       "</style>\n",
       "<table border=\"1\" class=\"dataframe\">\n",
       "  <thead>\n",
       "    <tr style=\"text-align: right;\">\n",
       "      <th></th>\n",
       "      <th>Rooms</th>\n",
       "      <th>DistMetro</th>\n",
       "      <th>Area</th>\n",
       "      <th>Price</th>\n",
       "    </tr>\n",
       "  </thead>\n",
       "  <tbody>\n",
       "    <tr>\n",
       "      <td>count</td>\n",
       "      <td>1653.0</td>\n",
       "      <td>1653.000000</td>\n",
       "      <td>1653.000000</td>\n",
       "      <td>1653.000000</td>\n",
       "    </tr>\n",
       "    <tr>\n",
       "      <td>mean</td>\n",
       "      <td>3.0</td>\n",
       "      <td>9.689655</td>\n",
       "      <td>67.093164</td>\n",
       "      <td>11749.978221</td>\n",
       "    </tr>\n",
       "    <tr>\n",
       "      <td>std</td>\n",
       "      <td>0.0</td>\n",
       "      <td>5.795015</td>\n",
       "      <td>8.944260</td>\n",
       "      <td>1959.611884</td>\n",
       "    </tr>\n",
       "    <tr>\n",
       "      <td>min</td>\n",
       "      <td>3.0</td>\n",
       "      <td>0.000000</td>\n",
       "      <td>51.000000</td>\n",
       "      <td>6338.000000</td>\n",
       "    </tr>\n",
       "    <tr>\n",
       "      <td>25%</td>\n",
       "      <td>3.0</td>\n",
       "      <td>5.000000</td>\n",
       "      <td>59.000000</td>\n",
       "      <td>10320.000000</td>\n",
       "    </tr>\n",
       "    <tr>\n",
       "      <td>50%</td>\n",
       "      <td>3.0</td>\n",
       "      <td>10.000000</td>\n",
       "      <td>67.000000</td>\n",
       "      <td>11639.000000</td>\n",
       "    </tr>\n",
       "    <tr>\n",
       "      <td>75%</td>\n",
       "      <td>3.0</td>\n",
       "      <td>15.000000</td>\n",
       "      <td>75.000000</td>\n",
       "      <td>13123.000000</td>\n",
       "    </tr>\n",
       "    <tr>\n",
       "      <td>max</td>\n",
       "      <td>3.0</td>\n",
       "      <td>19.000000</td>\n",
       "      <td>83.000000</td>\n",
       "      <td>17614.000000</td>\n",
       "    </tr>\n",
       "  </tbody>\n",
       "</table>\n",
       "</div>"
      ],
      "text/plain": [
       "        Rooms    DistMetro         Area         Price\n",
       "count  1653.0  1653.000000  1653.000000   1653.000000\n",
       "mean      3.0     9.689655    67.093164  11749.978221\n",
       "std       0.0     5.795015     8.944260   1959.611884\n",
       "min       3.0     0.000000    51.000000   6338.000000\n",
       "25%       3.0     5.000000    59.000000  10320.000000\n",
       "50%       3.0    10.000000    67.000000  11639.000000\n",
       "75%       3.0    15.000000    75.000000  13123.000000\n",
       "max       3.0    19.000000    83.000000  17614.000000"
      ]
     },
     "execution_count": 81,
     "metadata": {},
     "output_type": "execute_result"
    }
   ],
   "source": [
    "#основные статистики для датафрейма 3 ком. кв\n",
    "data_house3_prices.describe()"
   ]
  },
  {
   "cell_type": "code",
   "execution_count": 82,
   "metadata": {},
   "outputs": [
    {
     "name": "stdout",
     "output_type": "stream",
     "text": [
      "Выборка 3 ком. квартир = 1653\n"
     ]
    }
   ],
   "source": [
    "print(f'Выборка 3 ком. квартир = {count_house3}')"
   ]
  },
  {
   "cell_type": "code",
   "execution_count": 89,
   "metadata": {},
   "outputs": [
    {
     "name": "stdout",
     "output_type": "stream",
     "text": [
      "Среднее знач. выборки 3 ком. квартир = 11749.978221415608\n"
     ]
    }
   ],
   "source": [
    "print(f'Среднее знач. выборки 3 ком. квартир = {data_house3_prices.Price.sum()/count_house3}')"
   ]
  },
  {
   "cell_type": "code",
   "execution_count": 91,
   "metadata": {},
   "outputs": [
    {
     "name": "stdout",
     "output_type": "stream",
     "text": [
      "3% от Среднее знач. выборки 3 ком. квартир = 352.49934664246825\n"
     ]
    }
   ],
   "source": [
    "#прибыль - это комиссия 3% от суммы сделки купли-продажи квартир (цена квартиры)\n",
    "percent = ((data_house3_prices.Price.sum()/count_house3) * 3) / 100\n",
    "print(f'3% от Среднее знач. выборки 3 ком. квартир = {percent}')"
   ]
  },
  {
   "cell_type": "code",
   "execution_count": 120,
   "metadata": {},
   "outputs": [
    {
     "name": "stdout",
     "output_type": "stream",
     "text": [
      "Среднеквадратическое отклонение выборки = 1959.0190504890581\n"
     ]
    }
   ],
   "source": [
    "#расчет Среднеквадратическое отклонение выборки\n",
    "data_house3_prices['difference'] = data_house3_prices['Price'] - (data_house3_prices.Price.sum()/count_house3)\n",
    "data_house3_prices['square'] = (data_house3_prices['Price'] - (data_house3_prices.Price.sum()/count_house3)) ** 2\n",
    "var_sum = data_house3_prices['square'].sum()\n",
    "var_ss = math.sqrt(data_house3_prices['square'].sum()/count_house3)\n",
    "print(f'Среднеквадратическое отклонение выборки = {var_ss}')"
   ]
  },
  {
   "cell_type": "code",
   "execution_count": 121,
   "metadata": {},
   "outputs": [
    {
     "name": "stdout",
     "output_type": "stream",
     "text": [
      "3% от Среднеквадратическое отклонение выборки = 58.770571514671744\n"
     ]
    }
   ],
   "source": [
    "#3% от Среднеквадратическое отклонение выборки\n",
    "print(f'3% от Среднеквадратическое отклонение выборки = {var_ss*3/100}')"
   ]
  },
  {
   "cell_type": "code",
   "execution_count": 127,
   "metadata": {},
   "outputs": [
    {
     "data": {
      "text/plain": [
       "11.75411430293435"
      ]
     },
     "execution_count": 127,
     "metadata": {},
     "output_type": "execute_result"
    }
   ],
   "source": [
    "n = 25 #наблюдений\n",
    "#расчет Стандартная ошибка среднего\n",
    "var_SEM = (var_ss*3/100)/math.sqrt(n)\n",
    "var_SEM"
   ]
  },
  {
   "cell_type": "code",
   "execution_count": 134,
   "metadata": {},
   "outputs": [
    {
     "data": {
      "text/plain": [
       "1.3187427787444685"
      ]
     },
     "execution_count": 134,
     "metadata": {},
     "output_type": "execute_result"
    }
   ],
   "source": [
    "#9 млн. 200 тыс. в единицах измерения датасета = 9200, крит. значение 9200/25\n",
    "#z-оценка (эмпир. значение)\n",
    "((9200/25 - percent)/var_SEM) "
   ]
  },
  {
   "attachments": {},
   "cell_type": "markdown",
   "metadata": {},
   "source": [
    "**Анализ**\n",
    "\n",
    "* Выборка 3 ком. квартир = 1653\n",
    "* Среднее знач. выборки = 11749.99\n",
    "* 3% от Среднее знач. выборки 3 ком. квартир = 352.499\n",
    "* Среднеквадратическое отклонение выборки = 1959.019\n",
    "* 3% от Среднеквадратическое отклонение = = 58.7706\n",
    "* Кол-во сделок/наблюдений = 25\n",
    "* Стандартная ошибка среднего = 11.7542\n",
    "\n",
    "z-оценка\n",
    "1.3187427787444685\n",
    "по z-таблице\n",
    "p-значение = 0.9066\n",
    "\n",
    "Тогда вероятность того, что суммарная прибыль от 25 сделок по продажам 3 ком. кв. превысит 9 млн. 200 тыс. равна 100-90.66 = 9.34% "
   ]
  },
  {
   "cell_type": "markdown",
   "metadata": {},
   "source": [
    "**5. Решить задачу**\n",
    "Рассчитать дисперсию стоимости кв.метра в каждой категории. Как меняется дисперсия с количеством комнат?\n",
    "Есть ли (и какая) связь с изменением коэффициента корреляции?"
   ]
  },
  {
   "cell_type": "code",
   "execution_count": null,
   "metadata": {},
   "outputs": [],
   "source": [
    "#дисперсия - квадрат станд. отклонения\n",
    "#стоимость кв.метра = Price/Area\n"
   ]
  },
  {
   "cell_type": "code",
   "execution_count": 154,
   "metadata": {},
   "outputs": [],
   "source": [
    "#1 ком. кв\n",
    "data_house1 = data_house_prices [data_house_prices.Rooms == 1]\n",
    "count_house1 = len(data_house1) #выборка/кол-во 1 ком. кв. \n",
    "#2 ком. кв\n",
    "data_house2 = data_house_prices [data_house_prices.Rooms == 2]\n",
    "count_house2 = len(data_house2) #выборка/кол-во 2 ком. кв. \n",
    "#3 ком. кв\n",
    "data_house3 = data_house_prices [data_house_prices.Rooms == 3]\n",
    "count_house3 = len(data_house3) #выборка/кол-во 1 ком. кв. "
   ]
  },
  {
   "cell_type": "code",
   "execution_count": 156,
   "metadata": {},
   "outputs": [
    {
     "name": "stderr",
     "output_type": "stream",
     "text": [
      "C:\\ProgramData\\Anaconda37\\lib\\site-packages\\ipykernel_launcher.py:1: SettingWithCopyWarning: \n",
      "A value is trying to be set on a copy of a slice from a DataFrame.\n",
      "Try using .loc[row_indexer,col_indexer] = value instead\n",
      "\n",
      "See the caveats in the documentation: http://pandas.pydata.org/pandas-docs/stable/user_guide/indexing.html#returning-a-view-versus-a-copy\n",
      "  \"\"\"Entry point for launching an IPython kernel.\n",
      "C:\\ProgramData\\Anaconda37\\lib\\site-packages\\ipykernel_launcher.py:5: SettingWithCopyWarning: \n",
      "A value is trying to be set on a copy of a slice from a DataFrame.\n",
      "Try using .loc[row_indexer,col_indexer] = value instead\n",
      "\n",
      "See the caveats in the documentation: http://pandas.pydata.org/pandas-docs/stable/user_guide/indexing.html#returning-a-view-versus-a-copy\n",
      "  \"\"\"\n",
      "C:\\ProgramData\\Anaconda37\\lib\\site-packages\\ipykernel_launcher.py:9: SettingWithCopyWarning: \n",
      "A value is trying to be set on a copy of a slice from a DataFrame.\n",
      "Try using .loc[row_indexer,col_indexer] = value instead\n",
      "\n",
      "See the caveats in the documentation: http://pandas.pydata.org/pandas-docs/stable/user_guide/indexing.html#returning-a-view-versus-a-copy\n",
      "  if __name__ == '__main__':\n"
     ]
    },
    {
     "name": "stdout",
     "output_type": "stream",
     "text": [
      "Дисперсия 1 ком. квартир = 579.7431544725835\n",
      "Дисперсия 2 ком. квартир = 419.88642606948054\n",
      "Дисперсия 3 ком. квартир = 381.41829805642936\n"
     ]
    }
   ],
   "source": [
    "data_house1['msqrm'] = (data_house1['Price'] / data_house1['Area']) - (data_house1.Price.sum()/count_house3)\n",
    "list1 = list(data_house1['msqrm'])\n",
    "print(f'Дисперсия 1 ком. квартир = {np.var(list1)}')\n",
    "\n",
    "data_house2['msqrm'] = (data_house2['Price'] / data_house2['Area']) - (data_house2.Price.sum()/count_house2)\n",
    "list2 = list(data_house2['msqrm'])\n",
    "print(f'Дисперсия 2 ком. квартир = {np.var(list2)}')\n",
    "\n",
    "data_house3['msqrm'] = (data_house3['Price'] / data_house3['Area']) - (data_house3.Price.sum()/count_house3)\n",
    "list3 = list(data_house3['msqrm'])\n",
    "print(f'Дисперсия 3 ком. квартир = {np.var(list3)}')\n"
   ]
  },
  {
   "cell_type": "markdown",
   "metadata": {},
   "source": [
    "**Анализ**\n",
    "\n",
    "* Дисперсия 1 ком. квартир = 579.74\n",
    "* Дисперсия 2 ком. квартир = 419.89\n",
    "* Дисперсия 3 ком. квартир = 381.42\n",
    "\n",
    "С увеличением комнат дисперсия убывает\n",
    "\n",
    "Из расчетов сделанных ранее:\n",
    "* Корреляция цены и площади 1 ком. квартир = 0.6528312289899489\n",
    "* Корреляция цены и площади 2 ком. квартир = 0.7058155230162516\n",
    "* Корреляция цены и площади 3 ком. квартир = 0.7447234199703179\n",
    "\n",
    "То есть чем больше дисперсия, тем меньше коэффициент корреляции."
   ]
  }
 ],
 "metadata": {
  "kernelspec": {
   "display_name": "Python 3",
   "language": "python",
   "name": "python3"
  },
  "language_info": {
   "codemirror_mode": {
    "name": "ipython",
    "version": 3
   },
   "file_extension": ".py",
   "mimetype": "text/x-python",
   "name": "python",
   "nbconvert_exporter": "python",
   "pygments_lexer": "ipython3",
   "version": "3.7.4"
  }
 },
 "nbformat": 4,
 "nbformat_minor": 2
}
